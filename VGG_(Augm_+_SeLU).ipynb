{
  "nbformat": 4,
  "nbformat_minor": 0,
  "metadata": {
    "colab": {
      "provenance": []
    },
    "kernelspec": {
      "name": "python3",
      "display_name": "Python 3"
    },
    "language_info": {
      "name": "python"
    }
  },
  "cells": [
    {
      "cell_type": "markdown",
      "source": [
        "**CIFAR-10, классификация изображений, CNN**"
      ],
      "metadata": {
        "id": "j9EP0zo0ICNn"
      }
    },
    {
      "cell_type": "code",
      "source": [
        "import matplotlib.pyplot as plt\n",
        "import numpy as np\n",
        "import torch\n",
        "import torch.nn as nn\n",
        "import torch.nn.functional as F\n",
        "import torch.optim as optim\n",
        "import torchvision\n",
        "import torchvision.transforms as transforms\n",
        "from IPython.display import clear_output\n",
        "import PIL\n",
        "\n",
        "%matplotlib inline\n",
        "#device = \"cuda\""
      ],
      "metadata": {
        "id": "vH_v0TGUH4x9"
      },
      "execution_count": 51,
      "outputs": []
    },
    {
      "cell_type": "code",
      "source": [
        "#torch.cuda.is_available()"
      ],
      "metadata": {
        "id": "ciNOQQMUH40a"
      },
      "execution_count": 52,
      "outputs": []
    },
    {
      "cell_type": "code",
      "source": [
        "transform = transforms.Compose([\n",
        "            #transforms.Resize((224, 224)),\n",
        "            transforms.ColorJitter(hue=0.05, saturation=0.05),\n",
        "            transforms.RandomHorizontalFlip(),\n",
        "            #transforms.RandomRotation(20, resample=PIL.Image.BILINEAR),\n",
        "            transforms.ToTensor(),\n",
        "            transforms.Normalize((0.5, 0.5, 0.5), (0.5, 0.5, 0.5))\n",
        "])\n",
        "\n",
        "trainset = torchvision.datasets.CIFAR10(\n",
        "    root=\"./cifar\", train=True, download=True, transform=transform)\n",
        "train_dataloader = torch.utils.data.DataLoader(\n",
        "    trainset, batch_size=16, shuffle=True, num_workers=1)\n",
        "\n",
        "testset = torchvision.datasets.CIFAR10(\n",
        "    root=\"./cifar\", train=False, download=True, transform=transform)\n",
        "test_dataloader = torch.utils.data.DataLoader(\n",
        "    testset, batch_size=16, shuffle=False, num_workers=1)"
      ],
      "metadata": {
        "colab": {
          "base_uri": "https://localhost:8080/"
        },
        "id": "QMx7zodiH42T",
        "outputId": "6b65cd9d-2541-4901-dbdd-42ce92d88849"
      },
      "execution_count": 53,
      "outputs": [
        {
          "output_type": "stream",
          "name": "stdout",
          "text": [
            "Files already downloaded and verified\n",
            "Files already downloaded and verified\n"
          ]
        }
      ]
    },
    {
      "cell_type": "code",
      "source": [
        "NUM_EPOCH = 25"
      ],
      "metadata": {
        "id": "bFcv36EtH44S"
      },
      "execution_count": 55,
      "outputs": []
    },
    {
      "cell_type": "code",
      "source": [
        "def plot_history(train_history, val_history, title=\"loss\"):\n",
        "    plt.figure(figsize=(5,2))\n",
        "    plt.title(\"{}\".format(title))\n",
        "    plt.plot(train_history, label=\"train\", zorder=1)\n",
        "\n",
        "    points = np.array(val_history)\n",
        "    steps = list(\n",
        "        range(0, len(train_history) + 1, int(len(train_history) / len(val_history)))\n",
        "    )[1:]\n",
        "\n",
        "    plt.scatter(steps, val_history, marker=\"+\", s=180, c=\"orange\", label=\"val\", zorder=2)\n",
        "    plt.xlabel(\"train steps\")\n",
        "\n",
        "    plt.legend(loc=\"best\")\n",
        "    plt.grid()\n",
        "\n",
        "    plt.show()"
      ],
      "metadata": {
        "id": "Y4xrPWIpH46Q"
      },
      "execution_count": 56,
      "outputs": []
    },
    {
      "cell_type": "code",
      "source": [
        "class ModelCNN(nn.Module):\n",
        "    def __init__(self):\n",
        "        super(ModelCNN, self).__init__()\n",
        "        self.vgg = nn.Sequential(\n",
        "            nn.Conv2d(3, 16, 3, padding=1),\n",
        "            nn.BatchNorm2d(16),\n",
        "            nn.SELU(),\n",
        "            nn.Conv2d(16, 16, 3, padding=1),\n",
        "            nn.BatchNorm2d(16),\n",
        "            nn.SELU(),\n",
        "            nn.MaxPool2d(2, 2),\n",
        "\n",
        "            nn.Dropout(0.2),\n",
        "\n",
        "            nn.Conv2d(16, 32, 3, padding=1),\n",
        "            nn.BatchNorm2d(32),\n",
        "            nn.SELU(),\n",
        "            nn.Conv2d(32, 32, 3, padding=1),\n",
        "            nn.BatchNorm2d(32),\n",
        "            nn.SELU(),\n",
        "            nn.MaxPool2d(2, 2),\n",
        "\n",
        "            nn.Dropout(0.2),\n",
        "\n",
        "            nn.Conv2d(32, 64, 3, padding=1),\n",
        "            nn.BatchNorm2d(64),\n",
        "            nn.SELU(),\n",
        "            nn.Conv2d(64, 64, 3, padding=1),\n",
        "            nn.BatchNorm2d(64),\n",
        "            nn.SELU(),\n",
        "            nn.MaxPool2d(2, 2),\n",
        "            nn.Dropout(0.2),\n",
        "        )\n",
        "\n",
        "        self.flatten = nn.Flatten()\n",
        "        self.fc1 = nn.Linear(64 * 4 * 4, 128)\n",
        "        self.bn1 = nn.BatchNorm1d(128)\n",
        "        self.selu = nn.SELU()\n",
        "        self.dropout = nn.Dropout(0.5)\n",
        "        self.fc2 = nn.Linear(128, 10)\n",
        "        self.softmax = nn.Softmax()\n",
        "\n",
        "    def forward(self, x):\n",
        "        x = self.vgg(x)\n",
        "        x = nn.Flatten()(x)\n",
        "        x = self.selu(self.fc1(x))\n",
        "        x = self.softmax(self.fc2(x))\n",
        "        return x\n",
        "\n",
        "model = ModelCNN()"
      ],
      "metadata": {
        "id": "IBMT4M0OH48S"
      },
      "execution_count": 57,
      "outputs": []
    },
    {
      "cell_type": "code",
      "source": [
        "#model_baseline.to(device)"
      ],
      "metadata": {
        "id": "f83GPI6oH4-U"
      },
      "execution_count": 58,
      "outputs": []
    },
    {
      "cell_type": "code",
      "source": [
        "def train(model, criterion, optimizer, train_dataloader, test_dataloader):\n",
        "    train_loss_log = []\n",
        "    train_acc_log = []\n",
        "    val_loss_log = []\n",
        "    val_acc_log = []\n",
        "\n",
        "    for epoch in range(NUM_EPOCH):\n",
        "        model.train()\n",
        "        train_loss = 0.0\n",
        "        train_size = 0\n",
        "        train_acc = 0.0\n",
        "        for imgs, labels in train_dataloader:\n",
        "            #imgs, labels = imgs.to(device), labels.to(device)\n",
        "\n",
        "            optimizer.zero_grad()\n",
        "            y_pred = model(imgs)\n",
        "            loss = criterion(y_pred, labels)\n",
        "            loss.backward()\n",
        "            optimizer.step()\n",
        "\n",
        "            train_loss += loss.item()\n",
        "            train_size += y_pred.size(0)\n",
        "            train_loss_log.append(loss.data / y_pred.size(0))\n",
        "\n",
        "            _, pred_classes = torch.max(y_pred, 1)\n",
        "            train_acc += (pred_classes == labels).sum().item()\n",
        "            train_acc_log.append(np.mean((pred_classes == labels).cpu().numpy()))\n",
        "\n",
        "        val_loss = 0.0\n",
        "        val_size = 0\n",
        "        val_acc = 0.0\n",
        "        model.eval()\n",
        "        with torch.no_grad():\n",
        "            for imgs, labels in test_dataloader:\n",
        "                #imgs, labels = imgs.to(device), labels.to(device)\n",
        "                pred = model(imgs)\n",
        "                loss = criterion(pred, labels)\n",
        "                val_loss += loss.item()\n",
        "                val_size += pred.size(0)\n",
        "\n",
        "                _, pred_classes = torch.max(pred, 1)\n",
        "                val_acc += (pred_classes == labels).sum().item()\n",
        "        val_loss_log.append(val_loss / val_size)\n",
        "        val_acc_log.append(val_acc / val_size)\n",
        "\n",
        "        clear_output()\n",
        "        plot_history(train_loss_log, val_loss_log, \"loss\")\n",
        "        plot_history(train_acc_log, val_acc_log, \"accuracy\")\n",
        "\n",
        "        print(\"Train loss:\", train_loss / train_size)\n",
        "        print(\"Train acc:\", train_acc / train_size)\n",
        "        print(\"Val loss:\", val_loss / val_size)\n",
        "        print(\"Val acc:\", val_acc / val_size)"
      ],
      "metadata": {
        "id": "9ip6KLJgH5AZ"
      },
      "execution_count": 59,
      "outputs": []
    },
    {
      "cell_type": "code",
      "source": [
        "criterion = nn.CrossEntropyLoss()\n",
        "optimizer = optim.SGD(model.parameters(), lr=0.001)"
      ],
      "metadata": {
        "id": "nscjbW9KH5Eg"
      },
      "execution_count": 60,
      "outputs": []
    },
    {
      "cell_type": "code",
      "source": [
        "train(model, criterion, optimizer, train_dataloader, test_dataloader)"
      ],
      "metadata": {
        "colab": {
          "base_uri": "https://localhost:8080/",
          "height": 564
        },
        "id": "gVmjRowFH5G7",
        "outputId": "636a242b-40ad-42f1-e88d-aff7366115dd"
      },
      "execution_count": 61,
      "outputs": [
        {
          "output_type": "display_data",
          "data": {
            "text/plain": [
              "<Figure size 500x200 with 1 Axes>"
            ],
            "image/png": "[encoded data removed]"
          },
          "metadata": {}
        },
        {
          "output_type": "display_data",
          "data": {
            "text/plain": [
              "<Figure size 500x200 with 1 Axes>"
            ],
            "image/png": "[encoded data removed]"
          },
          "metadata": {}
        },
        {
          "output_type": "stream",
          "name": "stdout",
          "text": [
            "Train loss: 0.11457468008995056\n",
            "Train acc: 0.6358\n",
            "Val loss: 0.11386346621513367\n",
            "Val acc: 0.645\n"
          ]
        }
      ]
    }
  ]
}